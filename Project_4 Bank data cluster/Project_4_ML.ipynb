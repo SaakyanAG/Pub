{
 "cells": [
  {
   "cell_type": "markdown",
   "id": "c353de9a",
   "metadata": {},
   "source": [
    "# Проект: классификация"
   ]
  },
  {
   "cell_type": "code",
   "execution_count": 76,
   "id": "4a6e54dc",
   "metadata": {},
   "outputs": [],
   "source": [
    "import pandas as pd\n",
    "import numpy as np\n",
    "import matplotlib.pyplot as plt\n",
    "import seaborn as sns\n",
    "from  sklearn.ensemble import IsolationForest\n",
    "import warnings\n",
    "warnings.filterwarnings('ignore')\n",
    "from sklearn.preprocessing  import LabelEncoder\n",
    "from sklearn import linear_model \n",
    "from sklearn import tree \n",
    "from sklearn import ensemble \n",
    "from sklearn import metrics \n",
    "from sklearn import preprocessing \n",
    "from sklearn.model_selection import train_test_split \n",
    "from sklearn.feature_selection import SelectKBest, f_classif\n",
    "\n",
    "plt.rcParams['figure.figsize']=18,10"
   ]
  },
  {
   "cell_type": "markdown",
   "id": "71559b60",
   "metadata": {},
   "source": [
    "## Часть 1. Знакомство с данными, обработка пропусков и выбросов"
   ]
  },
  {
   "cell_type": "markdown",
   "id": "7c5e31b2",
   "metadata": {},
   "source": [
    "### Задание 1"
   ]
  },
  {
   "cell_type": "code",
   "execution_count": 77,
   "id": "20730cd7",
   "metadata": {},
   "outputs": [
    {
     "name": "stdout",
     "output_type": "stream",
     "text": [
      "(11162, 17)\n"
     ]
    },
    {
     "data": {
      "text/html": [
       "<div>\n",
       "<style scoped>\n",
       "    .dataframe tbody tr th:only-of-type {\n",
       "        vertical-align: middle;\n",
       "    }\n",
       "\n",
       "    .dataframe tbody tr th {\n",
       "        vertical-align: top;\n",
       "    }\n",
       "\n",
       "    .dataframe thead th {\n",
       "        text-align: right;\n",
       "    }\n",
       "</style>\n",
       "<table border=\"1\" class=\"dataframe\">\n",
       "  <thead>\n",
       "    <tr style=\"text-align: right;\">\n",
       "      <th></th>\n",
       "      <th>age</th>\n",
       "      <th>job</th>\n",
       "      <th>marital</th>\n",
       "      <th>education</th>\n",
       "      <th>default</th>\n",
       "      <th>balance</th>\n",
       "      <th>housing</th>\n",
       "      <th>loan</th>\n",
       "      <th>contact</th>\n",
       "      <th>day</th>\n",
       "      <th>month</th>\n",
       "      <th>duration</th>\n",
       "      <th>campaign</th>\n",
       "      <th>pdays</th>\n",
       "      <th>previous</th>\n",
       "      <th>poutcome</th>\n",
       "      <th>deposit</th>\n",
       "    </tr>\n",
       "  </thead>\n",
       "  <tbody>\n",
       "    <tr>\n",
       "      <th>0</th>\n",
       "      <td>59</td>\n",
       "      <td>admin.</td>\n",
       "      <td>married</td>\n",
       "      <td>secondary</td>\n",
       "      <td>no</td>\n",
       "      <td>2 343,00 $</td>\n",
       "      <td>yes</td>\n",
       "      <td>no</td>\n",
       "      <td>unknown</td>\n",
       "      <td>5</td>\n",
       "      <td>may</td>\n",
       "      <td>1042</td>\n",
       "      <td>1</td>\n",
       "      <td>-1</td>\n",
       "      <td>0</td>\n",
       "      <td>unknown</td>\n",
       "      <td>yes</td>\n",
       "    </tr>\n",
       "    <tr>\n",
       "      <th>1</th>\n",
       "      <td>56</td>\n",
       "      <td>admin.</td>\n",
       "      <td>married</td>\n",
       "      <td>secondary</td>\n",
       "      <td>no</td>\n",
       "      <td>45,00 $</td>\n",
       "      <td>no</td>\n",
       "      <td>no</td>\n",
       "      <td>unknown</td>\n",
       "      <td>5</td>\n",
       "      <td>may</td>\n",
       "      <td>1467</td>\n",
       "      <td>1</td>\n",
       "      <td>-1</td>\n",
       "      <td>0</td>\n",
       "      <td>unknown</td>\n",
       "      <td>yes</td>\n",
       "    </tr>\n",
       "    <tr>\n",
       "      <th>2</th>\n",
       "      <td>41</td>\n",
       "      <td>technician</td>\n",
       "      <td>married</td>\n",
       "      <td>secondary</td>\n",
       "      <td>no</td>\n",
       "      <td>1 270,00 $</td>\n",
       "      <td>yes</td>\n",
       "      <td>no</td>\n",
       "      <td>unknown</td>\n",
       "      <td>5</td>\n",
       "      <td>may</td>\n",
       "      <td>1389</td>\n",
       "      <td>1</td>\n",
       "      <td>-1</td>\n",
       "      <td>0</td>\n",
       "      <td>unknown</td>\n",
       "      <td>yes</td>\n",
       "    </tr>\n",
       "    <tr>\n",
       "      <th>3</th>\n",
       "      <td>55</td>\n",
       "      <td>services</td>\n",
       "      <td>married</td>\n",
       "      <td>secondary</td>\n",
       "      <td>no</td>\n",
       "      <td>2 476,00 $</td>\n",
       "      <td>yes</td>\n",
       "      <td>no</td>\n",
       "      <td>unknown</td>\n",
       "      <td>5</td>\n",
       "      <td>may</td>\n",
       "      <td>579</td>\n",
       "      <td>1</td>\n",
       "      <td>-1</td>\n",
       "      <td>0</td>\n",
       "      <td>unknown</td>\n",
       "      <td>yes</td>\n",
       "    </tr>\n",
       "    <tr>\n",
       "      <th>4</th>\n",
       "      <td>54</td>\n",
       "      <td>admin.</td>\n",
       "      <td>married</td>\n",
       "      <td>tertiary</td>\n",
       "      <td>no</td>\n",
       "      <td>184,00 $</td>\n",
       "      <td>no</td>\n",
       "      <td>no</td>\n",
       "      <td>unknown</td>\n",
       "      <td>5</td>\n",
       "      <td>may</td>\n",
       "      <td>673</td>\n",
       "      <td>2</td>\n",
       "      <td>-1</td>\n",
       "      <td>0</td>\n",
       "      <td>unknown</td>\n",
       "      <td>yes</td>\n",
       "    </tr>\n",
       "  </tbody>\n",
       "</table>\n",
       "</div>"
      ],
      "text/plain": [
       "   age         job  marital  education default       balance housing loan  \\\n",
       "0   59      admin.  married  secondary      no   2 343,00 $      yes   no   \n",
       "1   56      admin.  married  secondary      no      45,00 $       no   no   \n",
       "2   41  technician  married  secondary      no   1 270,00 $      yes   no   \n",
       "3   55    services  married  secondary      no   2 476,00 $      yes   no   \n",
       "4   54      admin.  married   tertiary      no     184,00 $       no   no   \n",
       "\n",
       "   contact  day month  duration  campaign  pdays  previous poutcome deposit  \n",
       "0  unknown    5   may      1042         1     -1         0  unknown     yes  \n",
       "1  unknown    5   may      1467         1     -1         0  unknown     yes  \n",
       "2  unknown    5   may      1389         1     -1         0  unknown     yes  \n",
       "3  unknown    5   may       579         1     -1         0  unknown     yes  \n",
       "4  unknown    5   may       673         2     -1         0  unknown     yes  "
      ]
     },
     "execution_count": 77,
     "metadata": {},
     "output_type": "execute_result"
    }
   ],
   "source": [
    "df = pd.read_csv(r'data\\bank_fin.zip', sep = ';')\n",
    "print(df.shape)\n",
    "df.head()"
   ]
  },
  {
   "cell_type": "markdown",
   "id": "b6f8ca74",
   "metadata": {},
   "source": [
    "* Данные о клиентах банка:  \n",
    "**age** (возраст);  \n",
    "**job** (сфера занятости);  \n",
    "**marital** (семейное положение);  \n",
    "**education** (уровень образования);  \n",
    "**default** (имеется ли просроченный кредит);  \n",
    "**housing** (имеется ли кредит на жильё);  \n",
    "**loan** (имеется ли кредит на личные нужды);  \n",
    "**balance** (баланс).  \n",
    "\n",
    "* Данные, связанные с последним контактом в контексте текущей маркетинговой кампании:  \n",
    "**contact** (тип контакта с клиентом);  \n",
    "**month** (месяц, в котором был последний контакт);  \n",
    "**day** (день, в который был последний контакт);  \n",
    "**duration** (продолжительность контакта в секундах).  \n",
    "\n",
    "* Прочие признаки:  \n",
    "**campaign** (количество контактов с этим клиентом в течение текущей кампании);  \n",
    "**pdays** (количество пропущенных дней с момента последней маркетинговой кампании до контакта в текущей кампании);  \n",
    "**previous** (количество контактов до текущей кампании)  \n",
    "**poutcome** (результат прошлой маркетинговой кампании).  \n",
    "И, разумеется, наша целевая переменная deposit, которая определяет, согласится ли клиент открыть депозит в банке. Именно её мы будем пытаться предсказать в данном кейсе.  "
   ]
  },
  {
   "cell_type": "code",
   "execution_count": 117,
   "id": "fdbec53c",
   "metadata": {},
   "outputs": [],
   "source": [
    "# Определим целевую метрику\n",
    "TARGET = 'deposit'"
   ]
  },
  {
   "cell_type": "code",
   "execution_count": 78,
   "id": "ba11dc67",
   "metadata": {},
   "outputs": [
    {
     "data": {
      "text/plain": [
       "age           0\n",
       "job           0\n",
       "marital       0\n",
       "education     0\n",
       "default       0\n",
       "balance      25\n",
       "housing       0\n",
       "loan          0\n",
       "contact       0\n",
       "day           0\n",
       "month         0\n",
       "duration      0\n",
       "campaign      0\n",
       "pdays         0\n",
       "previous      0\n",
       "poutcome      0\n",
       "deposit       0\n",
       "dtype: int64"
      ]
     },
     "execution_count": 78,
     "metadata": {},
     "output_type": "execute_result"
    }
   ],
   "source": [
    "# исследуйте данные на предмет пропусков. Где есть пропущенные значения? Сколько их?\n",
    "df.isna().sum()"
   ]
  },
  {
   "cell_type": "code",
   "execution_count": 79,
   "id": "e4b711a5",
   "metadata": {},
   "outputs": [
    {
     "data": {
      "text/html": [
       "<div>\n",
       "<style scoped>\n",
       "    .dataframe tbody tr th:only-of-type {\n",
       "        vertical-align: middle;\n",
       "    }\n",
       "\n",
       "    .dataframe tbody tr th {\n",
       "        vertical-align: top;\n",
       "    }\n",
       "\n",
       "    .dataframe thead th {\n",
       "        text-align: right;\n",
       "    }\n",
       "</style>\n",
       "<table border=\"1\" class=\"dataframe\">\n",
       "  <thead>\n",
       "    <tr style=\"text-align: right;\">\n",
       "      <th></th>\n",
       "      <th>count</th>\n",
       "      <th>unique</th>\n",
       "      <th>top</th>\n",
       "      <th>freq</th>\n",
       "      <th>mean</th>\n",
       "      <th>std</th>\n",
       "      <th>min</th>\n",
       "      <th>25%</th>\n",
       "      <th>50%</th>\n",
       "      <th>75%</th>\n",
       "      <th>max</th>\n",
       "    </tr>\n",
       "  </thead>\n",
       "  <tbody>\n",
       "    <tr>\n",
       "      <th>age</th>\n",
       "      <td>11162.0</td>\n",
       "      <td>NaN</td>\n",
       "      <td>NaN</td>\n",
       "      <td>NaN</td>\n",
       "      <td>41.231948</td>\n",
       "      <td>11.913369</td>\n",
       "      <td>18.0</td>\n",
       "      <td>32.0</td>\n",
       "      <td>39.0</td>\n",
       "      <td>49.0</td>\n",
       "      <td>95.0</td>\n",
       "    </tr>\n",
       "    <tr>\n",
       "      <th>job</th>\n",
       "      <td>11162</td>\n",
       "      <td>12</td>\n",
       "      <td>management</td>\n",
       "      <td>2566</td>\n",
       "      <td>NaN</td>\n",
       "      <td>NaN</td>\n",
       "      <td>NaN</td>\n",
       "      <td>NaN</td>\n",
       "      <td>NaN</td>\n",
       "      <td>NaN</td>\n",
       "      <td>NaN</td>\n",
       "    </tr>\n",
       "    <tr>\n",
       "      <th>marital</th>\n",
       "      <td>11162</td>\n",
       "      <td>3</td>\n",
       "      <td>married</td>\n",
       "      <td>6351</td>\n",
       "      <td>NaN</td>\n",
       "      <td>NaN</td>\n",
       "      <td>NaN</td>\n",
       "      <td>NaN</td>\n",
       "      <td>NaN</td>\n",
       "      <td>NaN</td>\n",
       "      <td>NaN</td>\n",
       "    </tr>\n",
       "    <tr>\n",
       "      <th>education</th>\n",
       "      <td>11162</td>\n",
       "      <td>4</td>\n",
       "      <td>secondary</td>\n",
       "      <td>5476</td>\n",
       "      <td>NaN</td>\n",
       "      <td>NaN</td>\n",
       "      <td>NaN</td>\n",
       "      <td>NaN</td>\n",
       "      <td>NaN</td>\n",
       "      <td>NaN</td>\n",
       "      <td>NaN</td>\n",
       "    </tr>\n",
       "    <tr>\n",
       "      <th>default</th>\n",
       "      <td>11162</td>\n",
       "      <td>2</td>\n",
       "      <td>no</td>\n",
       "      <td>10994</td>\n",
       "      <td>NaN</td>\n",
       "      <td>NaN</td>\n",
       "      <td>NaN</td>\n",
       "      <td>NaN</td>\n",
       "      <td>NaN</td>\n",
       "      <td>NaN</td>\n",
       "      <td>NaN</td>\n",
       "    </tr>\n",
       "    <tr>\n",
       "      <th>balance</th>\n",
       "      <td>11137</td>\n",
       "      <td>3802</td>\n",
       "      <td>0  $</td>\n",
       "      <td>774</td>\n",
       "      <td>NaN</td>\n",
       "      <td>NaN</td>\n",
       "      <td>NaN</td>\n",
       "      <td>NaN</td>\n",
       "      <td>NaN</td>\n",
       "      <td>NaN</td>\n",
       "      <td>NaN</td>\n",
       "    </tr>\n",
       "    <tr>\n",
       "      <th>housing</th>\n",
       "      <td>11162</td>\n",
       "      <td>2</td>\n",
       "      <td>no</td>\n",
       "      <td>5881</td>\n",
       "      <td>NaN</td>\n",
       "      <td>NaN</td>\n",
       "      <td>NaN</td>\n",
       "      <td>NaN</td>\n",
       "      <td>NaN</td>\n",
       "      <td>NaN</td>\n",
       "      <td>NaN</td>\n",
       "    </tr>\n",
       "    <tr>\n",
       "      <th>loan</th>\n",
       "      <td>11162</td>\n",
       "      <td>2</td>\n",
       "      <td>no</td>\n",
       "      <td>9702</td>\n",
       "      <td>NaN</td>\n",
       "      <td>NaN</td>\n",
       "      <td>NaN</td>\n",
       "      <td>NaN</td>\n",
       "      <td>NaN</td>\n",
       "      <td>NaN</td>\n",
       "      <td>NaN</td>\n",
       "    </tr>\n",
       "    <tr>\n",
       "      <th>contact</th>\n",
       "      <td>11162</td>\n",
       "      <td>3</td>\n",
       "      <td>cellular</td>\n",
       "      <td>8042</td>\n",
       "      <td>NaN</td>\n",
       "      <td>NaN</td>\n",
       "      <td>NaN</td>\n",
       "      <td>NaN</td>\n",
       "      <td>NaN</td>\n",
       "      <td>NaN</td>\n",
       "      <td>NaN</td>\n",
       "    </tr>\n",
       "    <tr>\n",
       "      <th>day</th>\n",
       "      <td>11162.0</td>\n",
       "      <td>NaN</td>\n",
       "      <td>NaN</td>\n",
       "      <td>NaN</td>\n",
       "      <td>15.658036</td>\n",
       "      <td>8.42074</td>\n",
       "      <td>1.0</td>\n",
       "      <td>8.0</td>\n",
       "      <td>15.0</td>\n",
       "      <td>22.0</td>\n",
       "      <td>31.0</td>\n",
       "    </tr>\n",
       "    <tr>\n",
       "      <th>month</th>\n",
       "      <td>11162</td>\n",
       "      <td>12</td>\n",
       "      <td>may</td>\n",
       "      <td>2824</td>\n",
       "      <td>NaN</td>\n",
       "      <td>NaN</td>\n",
       "      <td>NaN</td>\n",
       "      <td>NaN</td>\n",
       "      <td>NaN</td>\n",
       "      <td>NaN</td>\n",
       "      <td>NaN</td>\n",
       "    </tr>\n",
       "    <tr>\n",
       "      <th>duration</th>\n",
       "      <td>11162.0</td>\n",
       "      <td>NaN</td>\n",
       "      <td>NaN</td>\n",
       "      <td>NaN</td>\n",
       "      <td>371.993818</td>\n",
       "      <td>347.128386</td>\n",
       "      <td>2.0</td>\n",
       "      <td>138.0</td>\n",
       "      <td>255.0</td>\n",
       "      <td>496.0</td>\n",
       "      <td>3881.0</td>\n",
       "    </tr>\n",
       "    <tr>\n",
       "      <th>campaign</th>\n",
       "      <td>11162.0</td>\n",
       "      <td>NaN</td>\n",
       "      <td>NaN</td>\n",
       "      <td>NaN</td>\n",
       "      <td>2.508421</td>\n",
       "      <td>2.722077</td>\n",
       "      <td>1.0</td>\n",
       "      <td>1.0</td>\n",
       "      <td>2.0</td>\n",
       "      <td>3.0</td>\n",
       "      <td>63.0</td>\n",
       "    </tr>\n",
       "    <tr>\n",
       "      <th>pdays</th>\n",
       "      <td>11162.0</td>\n",
       "      <td>NaN</td>\n",
       "      <td>NaN</td>\n",
       "      <td>NaN</td>\n",
       "      <td>51.330407</td>\n",
       "      <td>108.758282</td>\n",
       "      <td>-1.0</td>\n",
       "      <td>-1.0</td>\n",
       "      <td>-1.0</td>\n",
       "      <td>20.75</td>\n",
       "      <td>854.0</td>\n",
       "    </tr>\n",
       "    <tr>\n",
       "      <th>previous</th>\n",
       "      <td>11162.0</td>\n",
       "      <td>NaN</td>\n",
       "      <td>NaN</td>\n",
       "      <td>NaN</td>\n",
       "      <td>0.832557</td>\n",
       "      <td>2.292007</td>\n",
       "      <td>0.0</td>\n",
       "      <td>0.0</td>\n",
       "      <td>0.0</td>\n",
       "      <td>1.0</td>\n",
       "      <td>58.0</td>\n",
       "    </tr>\n",
       "    <tr>\n",
       "      <th>poutcome</th>\n",
       "      <td>11162</td>\n",
       "      <td>4</td>\n",
       "      <td>unknown</td>\n",
       "      <td>8326</td>\n",
       "      <td>NaN</td>\n",
       "      <td>NaN</td>\n",
       "      <td>NaN</td>\n",
       "      <td>NaN</td>\n",
       "      <td>NaN</td>\n",
       "      <td>NaN</td>\n",
       "      <td>NaN</td>\n",
       "    </tr>\n",
       "    <tr>\n",
       "      <th>deposit</th>\n",
       "      <td>11162</td>\n",
       "      <td>2</td>\n",
       "      <td>no</td>\n",
       "      <td>5873</td>\n",
       "      <td>NaN</td>\n",
       "      <td>NaN</td>\n",
       "      <td>NaN</td>\n",
       "      <td>NaN</td>\n",
       "      <td>NaN</td>\n",
       "      <td>NaN</td>\n",
       "      <td>NaN</td>\n",
       "    </tr>\n",
       "  </tbody>\n",
       "</table>\n",
       "</div>"
      ],
      "text/plain": [
       "             count unique         top   freq        mean         std   min  \\\n",
       "age        11162.0    NaN         NaN    NaN   41.231948   11.913369  18.0   \n",
       "job          11162     12  management   2566         NaN         NaN   NaN   \n",
       "marital      11162      3     married   6351         NaN         NaN   NaN   \n",
       "education    11162      4   secondary   5476         NaN         NaN   NaN   \n",
       "default      11162      2          no  10994         NaN         NaN   NaN   \n",
       "balance      11137   3802       0  $     774         NaN         NaN   NaN   \n",
       "housing      11162      2          no   5881         NaN         NaN   NaN   \n",
       "loan         11162      2          no   9702         NaN         NaN   NaN   \n",
       "contact      11162      3    cellular   8042         NaN         NaN   NaN   \n",
       "day        11162.0    NaN         NaN    NaN   15.658036     8.42074   1.0   \n",
       "month        11162     12         may   2824         NaN         NaN   NaN   \n",
       "duration   11162.0    NaN         NaN    NaN  371.993818  347.128386   2.0   \n",
       "campaign   11162.0    NaN         NaN    NaN    2.508421    2.722077   1.0   \n",
       "pdays      11162.0    NaN         NaN    NaN   51.330407  108.758282  -1.0   \n",
       "previous   11162.0    NaN         NaN    NaN    0.832557    2.292007   0.0   \n",
       "poutcome     11162      4     unknown   8326         NaN         NaN   NaN   \n",
       "deposit      11162      2          no   5873         NaN         NaN   NaN   \n",
       "\n",
       "             25%    50%    75%     max  \n",
       "age         32.0   39.0   49.0    95.0  \n",
       "job          NaN    NaN    NaN     NaN  \n",
       "marital      NaN    NaN    NaN     NaN  \n",
       "education    NaN    NaN    NaN     NaN  \n",
       "default      NaN    NaN    NaN     NaN  \n",
       "balance      NaN    NaN    NaN     NaN  \n",
       "housing      NaN    NaN    NaN     NaN  \n",
       "loan         NaN    NaN    NaN     NaN  \n",
       "contact      NaN    NaN    NaN     NaN  \n",
       "day          8.0   15.0   22.0    31.0  \n",
       "month        NaN    NaN    NaN     NaN  \n",
       "duration   138.0  255.0  496.0  3881.0  \n",
       "campaign     1.0    2.0    3.0    63.0  \n",
       "pdays       -1.0   -1.0  20.75   854.0  \n",
       "previous     0.0    0.0    1.0    58.0  \n",
       "poutcome     NaN    NaN    NaN     NaN  \n",
       "deposit      NaN    NaN    NaN     NaN  "
      ]
     },
     "execution_count": 79,
     "metadata": {},
     "output_type": "execute_result"
    }
   ],
   "source": [
    "df.describe(include='all').T"
   ]
  },
  {
   "cell_type": "markdown",
   "id": "6366f059",
   "metadata": {},
   "source": [
    "### Задание 2"
   ]
  },
  {
   "cell_type": "code",
   "execution_count": 80,
   "id": "98ea29d4",
   "metadata": {},
   "outputs": [
    {
     "data": {
      "text/plain": [
       "management       2566\n",
       "blue-collar      1944\n",
       "technician       1823\n",
       "admin.           1334\n",
       "services          923\n",
       "retired           778\n",
       "self-employed     405\n",
       "student           360\n",
       "unemployed        357\n",
       "entrepreneur      328\n",
       "housemaid         274\n",
       "unknown            70\n",
       "Name: job, dtype: int64"
      ]
     },
     "execution_count": 80,
     "metadata": {},
     "output_type": "execute_result"
    }
   ],
   "source": [
    "# есть ли в признаке job пропущенные значения? Возможно, они обозначены каким-то специальным словом?\n",
    "df['job'].value_counts()"
   ]
  },
  {
   "cell_type": "markdown",
   "id": "8fcf4fcd",
   "metadata": {},
   "source": [
    "### Задание 3"
   ]
  },
  {
   "cell_type": "code",
   "execution_count": 81,
   "id": "2838f67a",
   "metadata": {},
   "outputs": [],
   "source": [
    "def balance_formatter(text:str):\n",
    "    \"\"\"Функция для форматирования признака баланкса клиента\n",
    "\n",
    "    Args:\n",
    "        text (str): входное значение признак\n",
    "\n",
    "    Returns:\n",
    "        str: отформатерованное значение признака\n",
    "    \"\"\"\n",
    "    text = text.strip()\n",
    "    text = text.replace('$','')\n",
    "    text = text.replace(' ','')\n",
    "    text = text.replace(',','.')\n",
    "    return text"
   ]
  },
  {
   "cell_type": "code",
   "execution_count": 82,
   "id": "3a01be5e",
   "metadata": {},
   "outputs": [],
   "source": [
    "# преобразуйте признак balance таким образом, чтобы он корректно считывался, как вещественное число (float)\n",
    "df['balance'] = df['balance'].apply(lambda x: balance_formatter(x) if type(x)!=float else x)\n",
    "\n",
    "df['balance'] = df['balance'].astype('float')"
   ]
  },
  {
   "cell_type": "code",
   "execution_count": 83,
   "id": "d8a041eb",
   "metadata": {},
   "outputs": [
    {
     "data": {
      "text/plain": [
       "count    11137.000000\n",
       "mean      1529.129029\n",
       "std       3228.114892\n",
       "min      -6847.000000\n",
       "25%        123.000000\n",
       "50%        550.000000\n",
       "75%       1708.000000\n",
       "max      81204.000000\n",
       "Name: balance, dtype: float64"
      ]
     },
     "execution_count": 83,
     "metadata": {},
     "output_type": "execute_result"
    }
   ],
   "source": [
    "df['balance'].describe()"
   ]
  },
  {
   "cell_type": "markdown",
   "id": "6de63fd7",
   "metadata": {},
   "source": [
    "### Задание 4"
   ]
  },
  {
   "cell_type": "code",
   "execution_count": 84,
   "id": "6a684a63",
   "metadata": {},
   "outputs": [],
   "source": [
    "# обработайте пропуски в признаки balance , заменив их на медианные значения по данному признаку\n",
    "df['balance'] = df['balance'].fillna(df['balance'].median())"
   ]
  },
  {
   "cell_type": "code",
   "execution_count": 85,
   "id": "08a47070",
   "metadata": {},
   "outputs": [
    {
     "data": {
      "text/plain": [
       "1526.9360329690019"
      ]
     },
     "execution_count": 85,
     "metadata": {},
     "output_type": "execute_result"
    }
   ],
   "source": [
    "df['balance'].mean()"
   ]
  },
  {
   "cell_type": "markdown",
   "id": "1097ec42",
   "metadata": {},
   "source": [
    "### Задание 5"
   ]
  },
  {
   "cell_type": "code",
   "execution_count": 86,
   "id": "0fa070a6",
   "metadata": {},
   "outputs": [],
   "source": [
    "# обработайте пропуски в категориальных признаках: job и education, заменив их на модальные значения\n",
    "df['job'] = df['job'].apply(lambda x: df['job'].mode()[0] if x == 'unknown' else x) # Преобразование работы\n",
    "df['education'] = df['education'].apply(lambda x: df['education'].mode()[0] if x == 'unknown' else x) # Преобразование образования"
   ]
  },
  {
   "cell_type": "code",
   "execution_count": 87,
   "id": "f0f24194",
   "metadata": {},
   "outputs": [
    {
     "data": {
      "text/plain": [
       "1598.883"
      ]
     },
     "execution_count": 87,
     "metadata": {},
     "output_type": "execute_result"
    }
   ],
   "source": [
    "round(df[(df['job']==df['job'].mode()[0])&(df['education']==df['education'].mode()[0])]['balance'].mean(), 3)"
   ]
  },
  {
   "cell_type": "markdown",
   "id": "02af77c6",
   "metadata": {},
   "source": [
    "### Задание 6"
   ]
  },
  {
   "cell_type": "code",
   "execution_count": 88,
   "id": "226727ee",
   "metadata": {},
   "outputs": [],
   "source": [
    "def outliers_iqr_mod(data, feature, left=1.5, right=1.5, log_scale=False):\n",
    "    \"\"\"Функция для очитки данных от выброса по Тьюки.\n",
    "    Делит данные на очищенные и отброшенные. Возвращает два датафрейма.\n",
    "    Сначала отброшенные. потом очищенные.\n",
    "\n",
    "    Args:\n",
    "        data (pd.DataFrame): исходный DataFrame для очистки\n",
    "        feature (string): признак DataFrame, по которому требуется очистка\n",
    "        left (float, optional): доверительный интервал слева. Defaults to 1.5.\n",
    "        right (float, optional): доверительный интервал справа. Defaults to 1.5.\n",
    "        log_scale (bool, optional): флажок для перевода в логарифмическое представление данных. Defaults to False.\n",
    "\n",
    "    Returns:\n",
    "        pd.DataFrame, pd.DataFrame: отброшенные данные и очищенные данные соответственно\n",
    "    \"\"\"\n",
    "    \n",
    "    if log_scale:\n",
    "        x = np.log(data[feature])\n",
    "        \n",
    "    else:\n",
    "        x= data[feature]\n",
    "        \n",
    "    quartile_1, quartile_3 = x.quantile(0.25), x.quantile(0.75)\n",
    "    iqr = quartile_3 - quartile_1\n",
    "    lower_bound = quartile_1 - (iqr * left)\n",
    "    upper_bound = quartile_3 + (iqr * right)\n",
    "    \n",
    "    outliers = data[(x<lower_bound) | (x > upper_bound)]\n",
    "    cleaned = data[(x>lower_bound) & (x < upper_bound)]\n",
    "    \n",
    "    return outliers, cleaned, lower_bound, upper_bound"
   ]
  },
  {
   "cell_type": "code",
   "execution_count": 89,
   "id": "eeb65570",
   "metadata": {},
   "outputs": [
    {
     "data": {
      "text/plain": [
       "<AxesSubplot:xlabel='balance'>"
      ]
     },
     "execution_count": 89,
     "metadata": {},
     "output_type": "execute_result"
    },
    {
     "data": {
      "image/png": "[encoded data removed]",
      "text/plain": [
       "<Figure size 1296x720 with 1 Axes>"
      ]
     },
     "metadata": {
      "needs_background": "light"
     },
     "output_type": "display_data"
    }
   ],
   "source": [
    "sns.boxplot(df['balance'])"
   ]
  },
  {
   "cell_type": "code",
   "execution_count": 90,
   "id": "3802cdd9",
   "metadata": {},
   "outputs": [
    {
     "name": "stdout",
     "output_type": "stream",
     "text": [
      "-2241.0 4063.0\n"
     ]
    }
   ],
   "source": [
    "# удалите все выбросы для признака balance\n",
    "_, df, lower_bound, upper_bound  = outliers_iqr_mod(df, 'balance')\n",
    "\n",
    "print(lower_bound, upper_bound)"
   ]
  },
  {
   "cell_type": "code",
   "execution_count": 91,
   "id": "dfd3679b",
   "metadata": {},
   "outputs": [
    {
     "name": "stdout",
     "output_type": "stream",
     "text": [
      "(10104, 17) (1057, 17)\n"
     ]
    }
   ],
   "source": [
    "print(df.shape, _.shape)\n",
    "del _"
   ]
  },
  {
   "cell_type": "markdown",
   "id": "5d22b8cd",
   "metadata": {},
   "source": [
    "## Часть 2:  Разведывательный анализ"
   ]
  },
  {
   "cell_type": "markdown",
   "id": "21e1f083",
   "metadata": {},
   "source": [
    "### Задание 1"
   ]
  },
  {
   "cell_type": "code",
   "execution_count": 92,
   "id": "db458eac",
   "metadata": {},
   "outputs": [
    {
     "data": {
      "text/plain": [
       "(<AxesSubplot:xlabel='deposit', ylabel='Count'>,\n",
       " no     5423\n",
       " yes    4681\n",
       " Name: deposit, dtype: int64)"
      ]
     },
     "execution_count": 92,
     "metadata": {},
     "output_type": "execute_result"
    },
    {
     "data": {
      "image/png": "[encoded data removed]",
      "text/plain": [
       "<Figure size 1296x720 with 1 Axes>"
      ]
     },
     "metadata": {
      "needs_background": "light"
     },
     "output_type": "display_data"
    }
   ],
   "source": [
    "# Сколько клиентов открыли депозит?\n",
    "\n",
    "sns.histplot(df['deposit']), df['deposit'].value_counts()"
   ]
  },
  {
   "cell_type": "markdown",
   "id": "b7dc9e44",
   "metadata": {},
   "source": [
    "#### Наблюдения:  \n",
    "Депозит открыло немногим менее половины клиентов (4861 человек)."
   ]
  },
  {
   "cell_type": "markdown",
   "id": "426b1d40",
   "metadata": {},
   "source": [
    "### Задание 2"
   ]
  },
  {
   "cell_type": "code",
   "execution_count": 93,
   "id": "53bec393",
   "metadata": {},
   "outputs": [
    {
     "data": {
      "text/plain": [
       "['age', 'balance', 'day', 'duration', 'campaign', 'pdays', 'previous']"
      ]
     },
     "execution_count": 93,
     "metadata": {},
     "output_type": "execute_result"
    }
   ],
   "source": [
    "num_cols = list(df.loc[:, df.dtypes != object].columns)\n",
    "num_cols"
   ]
  },
  {
   "cell_type": "code",
   "execution_count": 94,
   "id": "24d30d8f",
   "metadata": {},
   "outputs": [
    {
     "data": {
      "image/png": "[encoded data removed]",
      "text/plain": [
       "<Figure size 2160x1728 with 8 Axes>"
      ]
     },
     "metadata": {
      "needs_background": "light"
     },
     "output_type": "display_data"
    }
   ],
   "source": [
    "# Изучим количественные признаки в данных на, проиллюстрируем результат\n",
    "from cProfile import label\n",
    "\n",
    "\n",
    "fig, axes = plt.subplots(4,2, figsize=(30,24),edgecolor='white')\n",
    "\n",
    "axes = axes.reshape(8,)\n",
    "for ax, col in zip(axes[:-2], num_cols[:-2]):\n",
    "    sns.histplot(df[col], ax=ax)\n",
    "    ax.set_title(col)\n",
    "    \n",
    "# Данные для признаков previous и pdays необходимо дополнительно итерпретировать и отбросить людей, \n",
    "# которые не участовали в предыдущей кампании:\n",
    "sns.histplot(df[df['previous']>=1]['previous'], ax=axes[-2]).set_title('previous cleared')\n",
    "sns.histplot(df[df['pdays']>0]['pdays'], ax=axes[-1]).set_title('pday cleared')\n",
    "\n",
    "fig.show()"
   ]
  },
  {
   "cell_type": "code",
   "execution_count": 95,
   "id": "cdd2807f",
   "metadata": {},
   "outputs": [
    {
     "data": {
      "text/plain": [
       "92     88\n",
       "182    77\n",
       "181    75\n",
       "91     74\n",
       "Name: pdays, dtype: int64"
      ]
     },
     "execution_count": 95,
     "metadata": {},
     "output_type": "execute_result"
    }
   ],
   "source": [
    "df['pdays'].value_counts()[1:5]"
   ]
  },
  {
   "cell_type": "markdown",
   "id": "382b0e78",
   "metadata": {},
   "source": [
    "#### Наблюденя:\n",
    "* Возраст людей в представленном сете имеет нормальное распределение со смещением, виден пик в районе 32-35 лет, что весьма понятно, так как это самый активный финансовый возраст.\n",
    "* Распределение балансов имеет логнормальную форму, имеющее небольшое искажение слева.\n",
    "* Распределение дней контакта с людьми имеет равномерный характер.\n",
    "* Продолжительность контакта, количество контактов и результаты прошлой кампании имеет логнормальное распределение.\n",
    "* Количество дней с предыдущей компании не имеет ярковыраженного распределения, но имеет два пика в районе 90 и 180 (то есть через 3 месяца и через 6 месяц)"
   ]
  },
  {
   "cell_type": "code",
   "execution_count": 96,
   "id": "603cdb3c",
   "metadata": {},
   "outputs": [
    {
     "data": {
      "text/html": [
       "<div>\n",
       "<style scoped>\n",
       "    .dataframe tbody tr th:only-of-type {\n",
       "        vertical-align: middle;\n",
       "    }\n",
       "\n",
       "    .dataframe tbody tr th {\n",
       "        vertical-align: top;\n",
       "    }\n",
       "\n",
       "    .dataframe thead th {\n",
       "        text-align: right;\n",
       "    }\n",
       "</style>\n",
       "<table border=\"1\" class=\"dataframe\">\n",
       "  <thead>\n",
       "    <tr style=\"text-align: right;\">\n",
       "      <th></th>\n",
       "      <th>count</th>\n",
       "      <th>mean</th>\n",
       "      <th>std</th>\n",
       "      <th>min</th>\n",
       "      <th>25%</th>\n",
       "      <th>50%</th>\n",
       "      <th>75%</th>\n",
       "      <th>max</th>\n",
       "    </tr>\n",
       "  </thead>\n",
       "  <tbody>\n",
       "    <tr>\n",
       "      <th>age</th>\n",
       "      <td>10104.0</td>\n",
       "      <td>40.895487</td>\n",
       "      <td>11.735511</td>\n",
       "      <td>18.0</td>\n",
       "      <td>32.0</td>\n",
       "      <td>38.0</td>\n",
       "      <td>48.00</td>\n",
       "      <td>95.0</td>\n",
       "    </tr>\n",
       "    <tr>\n",
       "      <th>balance</th>\n",
       "      <td>10104.0</td>\n",
       "      <td>807.331354</td>\n",
       "      <td>993.673452</td>\n",
       "      <td>-2049.0</td>\n",
       "      <td>95.0</td>\n",
       "      <td>444.5</td>\n",
       "      <td>1224.75</td>\n",
       "      <td>4062.0</td>\n",
       "    </tr>\n",
       "    <tr>\n",
       "      <th>day</th>\n",
       "      <td>10104.0</td>\n",
       "      <td>15.590657</td>\n",
       "      <td>8.441852</td>\n",
       "      <td>1.0</td>\n",
       "      <td>8.0</td>\n",
       "      <td>15.0</td>\n",
       "      <td>22.00</td>\n",
       "      <td>31.0</td>\n",
       "    </tr>\n",
       "    <tr>\n",
       "      <th>duration</th>\n",
       "      <td>10104.0</td>\n",
       "      <td>368.777712</td>\n",
       "      <td>346.650712</td>\n",
       "      <td>2.0</td>\n",
       "      <td>137.0</td>\n",
       "      <td>252.0</td>\n",
       "      <td>490.00</td>\n",
       "      <td>3881.0</td>\n",
       "    </tr>\n",
       "    <tr>\n",
       "      <th>campaign</th>\n",
       "      <td>10104.0</td>\n",
       "      <td>2.516924</td>\n",
       "      <td>2.707180</td>\n",
       "      <td>1.0</td>\n",
       "      <td>1.0</td>\n",
       "      <td>2.0</td>\n",
       "      <td>3.00</td>\n",
       "      <td>43.0</td>\n",
       "    </tr>\n",
       "    <tr>\n",
       "      <th>pdays</th>\n",
       "      <td>10104.0</td>\n",
       "      <td>51.307700</td>\n",
       "      <td>109.643031</td>\n",
       "      <td>-1.0</td>\n",
       "      <td>-1.0</td>\n",
       "      <td>-1.0</td>\n",
       "      <td>2.00</td>\n",
       "      <td>854.0</td>\n",
       "    </tr>\n",
       "    <tr>\n",
       "      <th>previous</th>\n",
       "      <td>10104.0</td>\n",
       "      <td>0.816112</td>\n",
       "      <td>2.243875</td>\n",
       "      <td>0.0</td>\n",
       "      <td>0.0</td>\n",
       "      <td>0.0</td>\n",
       "      <td>1.00</td>\n",
       "      <td>58.0</td>\n",
       "    </tr>\n",
       "  </tbody>\n",
       "</table>\n",
       "</div>"
      ],
      "text/plain": [
       "            count        mean         std     min    25%    50%      75%  \\\n",
       "age       10104.0   40.895487   11.735511    18.0   32.0   38.0    48.00   \n",
       "balance   10104.0  807.331354  993.673452 -2049.0   95.0  444.5  1224.75   \n",
       "day       10104.0   15.590657    8.441852     1.0    8.0   15.0    22.00   \n",
       "duration  10104.0  368.777712  346.650712     2.0  137.0  252.0   490.00   \n",
       "campaign  10104.0    2.516924    2.707180     1.0    1.0    2.0     3.00   \n",
       "pdays     10104.0   51.307700  109.643031    -1.0   -1.0   -1.0     2.00   \n",
       "previous  10104.0    0.816112    2.243875     0.0    0.0    0.0     1.00   \n",
       "\n",
       "             max  \n",
       "age         95.0  \n",
       "balance   4062.0  \n",
       "day         31.0  \n",
       "duration  3881.0  \n",
       "campaign    43.0  \n",
       "pdays      854.0  \n",
       "previous    58.0  "
      ]
     },
     "execution_count": 96,
     "metadata": {},
     "output_type": "execute_result"
    }
   ],
   "source": [
    "#рассчитайте описательные статистики для количественных переменных, проинтерпретируйте результат\n",
    "\n",
    "df[num_cols].describe().T"
   ]
  },
  {
   "cell_type": "markdown",
   "id": "821dc39e",
   "metadata": {},
   "source": [
    "### Задание 3"
   ]
  },
  {
   "cell_type": "markdown",
   "id": "c29a33b8",
   "metadata": {},
   "source": [
    "#### Описание:\n",
    "Видно, что маркетинговая кампания проводилась 12 месяцев. Всего клиенты представляют 11 сфер деятельности."
   ]
  },
  {
   "cell_type": "code",
   "execution_count": 105,
   "id": "bf45afc9",
   "metadata": {},
   "outputs": [
    {
     "data": {
      "text/plain": [
       "['job',\n",
       " 'marital',\n",
       " 'education',\n",
       " 'default',\n",
       " 'housing',\n",
       " 'loan',\n",
       " 'contact',\n",
       " 'poutcome',\n",
       " 'deposit']"
      ]
     },
     "execution_count": 105,
     "metadata": {},
     "output_type": "execute_result"
    }
   ],
   "source": [
    "#рассчитайте описательные статистики для категориальных переменных, проинтерпретируйте результат\n",
    "cat_cols = list(df.nunique()[df.nunique()<12].index)\n",
    "cat_cols"
   ]
  },
  {
   "cell_type": "code",
   "execution_count": 98,
   "id": "64d636df",
   "metadata": {},
   "outputs": [
    {
     "data": {
      "image/png": "[encoded data removed]",
      "text/plain": [
       "<Figure size 2160x1728 with 9 Axes>"
      ]
     },
     "metadata": {
      "needs_background": "light"
     },
     "output_type": "display_data"
    }
   ],
   "source": [
    "fig, axes = plt.subplots(len(cat_cols)//3,3, figsize=(30,24),edgecolor='white')\n",
    "\n",
    "axes = axes.reshape(len(cat_cols),)\n",
    "for ax, col in zip(axes, cat_cols):\n",
    "    sns.histplot(df[col], ax=ax)\n",
    "    ax.set_title(col)\n",
    "    ax.tick_params(axis='x', labelrotation=22.5)\n",
    "    for container in ax.containers:\n",
    "        ax.bar_label(container)\n",
    "    \n",
    "fig.show()"
   ]
  },
  {
   "cell_type": "markdown",
   "id": "e84f19dd",
   "metadata": {},
   "source": [
    "#### Наблюдения:  \n",
    "* Распределения видов деятельности при ранжировании по количеству можно назвать логнормальным. Преобладают менеджеры, а самой непопулярной деятельностью среди клиентов банка являют домработницы.\n",
    "* Семейное положение большинства клиентов - в браке, а меньшинство - в разводе.\n",
    "* Большинство клиентов имеет среднее образование.\n",
    "* В состоянии дефолта по долгам находится меньшенство людей (166).\n",
    "* Немногим меньше половины (4861) имеет кредит на дом. \n",
    "___\n",
    "**Эта цифра совпадает с наличием депозита и по всей видимости она может каким-то образом коррелировать с количеством людей имеющим депозит.**  \n",
    "___\n",
    "* Большинство людей не имеет потребительский кредит (8711).\n",
    "* Тип контакта для большинства людей определен как контакт через звонок на сотовый телефон (7282), меньшинству звонили на стационарный (661), для остальных людей тип контакта не определен.\n",
    "* Метрика poutcome показывает результат прошлой кампании и самый большой класс здесь - неопределенность результата (7570), вторая категория по количество это отказ (1108), а успешна кампания были в 945 случаях. Категория другое является меньшенством с показателем в 481\n",
    "* Целевая метрика открытия депозита представляет собой сбалансированный класс. Отказ - 5423, успех - 4681."
   ]
  },
  {
   "cell_type": "markdown",
   "id": "472cff5b",
   "metadata": {},
   "source": [
    "### Задание 4"
   ]
  },
  {
   "cell_type": "code",
   "execution_count": 108,
   "id": "82cae5cc",
   "metadata": {},
   "outputs": [
    {
     "data": {
      "text/plain": [
       "['campaign', 'pdays', 'previous', 'poutcome']"
      ]
     },
     "execution_count": 108,
     "metadata": {},
     "output_type": "execute_result"
    }
   ],
   "source": [
    "# Зададим список признаком прошлой кампании\n",
    "last_camp_cols = list(df.columns[-5:-1])\n",
    "last_camp_cols"
   ]
  },
  {
   "cell_type": "code",
   "execution_count": 118,
   "id": "97b195d2",
   "metadata": {},
   "outputs": [
    {
     "data": {
      "image/png": "[encoded data removed]",
      "text/plain": [
       "<Figure size 1296x720 with 1 Axes>"
      ]
     },
     "metadata": {
      "needs_background": "light"
     },
     "output_type": "display_data"
    }
   ],
   "source": [
    "# Посмотрим на влияние прошлой кампании на целевую метрику\n",
    "\n",
    "fig = sns.histplot(df,x=TARGET, hue='poutcome',multiple=\"dodge\")\n",
    "for container in fig.containers:\n",
    "        fig.bar_label(container)"
   ]
  },
  {
   "cell_type": "markdown",
   "id": "2d640ce1",
   "metadata": {},
   "source": [
    "#### Наблюдения\n",
    "* Из гистограммы видно, что люди, с которыми сзаимодействовали в прошлой кампании вне зависимости от результата более склонны к открытию депозита, чем люди, которые не попали в прошлую кампанию.\n",
    "* Превалирующий класс из прошлой кампании это люди, которые также открыли кредит в результате проведения кампании до этого."
   ]
  },
  {
   "cell_type": "markdown",
   "id": "9c32e3aa",
   "metadata": {},
   "source": [
    "### Задание 5"
   ]
  },
  {
   "cell_type": "code",
   "execution_count": 123,
   "id": "df437ec3",
   "metadata": {},
   "outputs": [
    {
     "data": {
      "image/png": "[encoded data removed]",
      "text/plain": [
       "<Figure size 1296x720 with 1 Axes>"
      ]
     },
     "metadata": {
      "needs_background": "light"
     },
     "output_type": "display_data"
    }
   ],
   "source": [
    "# узнайте, в каком месяце чаще всего отказывались от предложения открыть депозит\n",
    "\n",
    "fig = sns.histplot(df,x='month', hue=TARGET,multiple=\"dodge\")\n",
    "for container in fig.containers:\n",
    "        fig.bar_label(container)"
   ]
  },
  {
   "cell_type": "markdown",
   "id": "c8460f38",
   "metadata": {},
   "source": [
    "#### Наблюдения:\n",
    "* Самым успешным месяцем по открытию депозитов стал май, при этом в этом месяце совершено самое большое количество контактов. Логично, что раз наибольшее количество контактов было в этом месяце, наибольшее количество успехов связано с ним. Можно предположить, что май - начало или конец кампании, так как такой всплеск обычно наблюдается в начале или в конце.\n",
    "* Видно, что самые удачные месяцы были октябрь, декабрь, март и сентябрь, где количество успехов значительно больше количества неудач по открытию депозитов.\n",
    "* Самые неуспешные в плане соотношения успехов к неудачам были май, июнь, июль, август и ноябрь. Предположительно это связано с подготовкой к новогодним праздникам в ноябре и подготовке и поездках в отпуска для теплых месяцов.\n",
    "\n",
    "\n",
    "___  \n",
    "**Успешность предложения имеет ярковыраженную сезонность.**"
   ]
  },
  {
   "cell_type": "markdown",
   "id": "5f20762f",
   "metadata": {},
   "source": [
    "### Задание 6"
   ]
  },
  {
   "cell_type": "code",
   "execution_count": 127,
   "id": "95d56f1b",
   "metadata": {},
   "outputs": [],
   "source": [
    "# создайте возрастные группы и определите, в каких группах более склонны открывать депозит, чем отказываться от предложения\n",
    "\n",
    "def age_group(val):\n",
    "    \"\"\"Метод разбивки на возрастные группы\n",
    "\n",
    "    Args:\n",
    "        val (int): возраст\n",
    "\n",
    "    Returns:\n",
    "        str: возрастная группа\n",
    "    \"\"\"\n",
    "    \n",
    "    if val <= 30:\n",
    "        return '<30'\n",
    "    \n",
    "    elif val <= 40:\n",
    "        return '30-40'\n",
    "    \n",
    "    elif val <= 50:\n",
    "        return '40-50'\n",
    "    \n",
    "    elif val <= 60:\n",
    "        return '50-60'\n",
    "    \n",
    "    elif val > 60:\n",
    "        return '60+'"
   ]
  },
  {
   "cell_type": "code",
   "execution_count": 128,
   "id": "b1b2e2ed",
   "metadata": {},
   "outputs": [],
   "source": [
    "df['age_group'] = df['age'].apply(age_group) # Обработаем возраст и разобьем на группы"
   ]
  },
  {
   "cell_type": "code",
   "execution_count": 129,
   "id": "1e57457d",
   "metadata": {},
   "outputs": [
    {
     "data": {
      "image/png": "[encoded data removed]",
      "text/plain": [
       "<Figure size 1296x720 with 1 Axes>"
      ]
     },
     "metadata": {
      "needs_background": "light"
     },
     "output_type": "display_data"
    }
   ],
   "source": [
    "fig = sns.histplot(df,x='age_group', hue=TARGET,multiple=\"dodge\")\n",
    "for container in fig.containers:\n",
    "        fig.bar_label(container)"
   ]
  },
  {
   "cell_type": "markdown",
   "id": "b3434f20",
   "metadata": {},
   "source": [
    "#### Наблюдения:\n",
    "* Видно, что две возрастные группы, где открытие депозита превалирует это \"<30\" и \"60+\".\n",
    "* Также отмечается, что во всех остальных группах люди более склонны депозит не открывать.\n",
    "\n",
    "___  \n",
    "**Можно предположить, что депозит является нишевым продуктом, либо рекламная кампания была нацелена на определенные возрастные группы, чем можно объяснить такую картину.**"
   ]
  },
  {
   "cell_type": "markdown",
   "id": "0841c685",
   "metadata": {},
   "source": [
    "### Задание 7"
   ]
  },
  {
   "cell_type": "markdown",
   "id": "e0dc3d6c",
   "metadata": {},
   "source": [
    "Давайте посмотрим, как зависит соотношение успешных и неуспешных контактов с клиентами от категорий, к которым относятся клиенты:\n",
    "\n",
    "* семейное положение;\n",
    "* уровень образования;\n",
    "* сфера занятости."
   ]
  },
  {
   "cell_type": "code",
   "execution_count": 140,
   "id": "615a9969",
   "metadata": {},
   "outputs": [],
   "source": [
    "cols_to_vis = ['marital' ,'education', 'job'] # Зададим признаки для рассмотрения"
   ]
  },
  {
   "cell_type": "code",
   "execution_count": 154,
   "id": "0d84a9e1",
   "metadata": {},
   "outputs": [
    {
     "data": {
      "image/png": "[encoded data removed]",
      "text/plain": [
       "<Figure size 2160x720 with 3 Axes>"
      ]
     },
     "metadata": {
      "needs_background": "light"
     },
     "output_type": "display_data"
    }
   ],
   "source": [
    "# постройте визуализации для открывших и неоткрывших депозит в зависимости от семейного статуса\n",
    "fig, axes = plt.subplots(1,len(cols_to_vis), figsize=(30,10),edgecolor='white')\n",
    "\n",
    "for ax, col in zip(axes, cols_to_vis):\n",
    "    sns.histplot(df,y=col, hue=TARGET,multiple=\"dodge\", ax=ax)\n",
    "    ax.set_title(col)\n",
    "    ax.tick_params(axis='x')\n",
    "    for container in ax.containers:\n",
    "        ax.bar_label(container)\n",
    "    \n",
    "fig.show()"
   ]
  },
  {
   "cell_type": "markdown",
   "id": "6049c9ce",
   "metadata": {},
   "source": [
    "#### Наблюдения:  \n",
    "\n",
    "* Среди одиноких людей больше тех, кто открыл депозит. А худший процент успеха в категории состоящих в браке.\n",
    "* Наиболее успешен депозит у людей с высшим образованием, а худший процент у людей с образованием начального уровня.\n",
    "* Наибольшую популярность депозит имеет у студентов, а наименьшую у \"синих воротничков\"."
   ]
  },
  {
   "cell_type": "markdown",
   "id": "a521e204",
   "metadata": {},
   "source": [
    "### Задание 8"
   ]
  },
  {
   "cell_type": "code",
   "execution_count": 174,
   "id": "4c0b0a81",
   "metadata": {},
   "outputs": [
    {
     "data": {
      "text/html": [
       "<div>\n",
       "<style scoped>\n",
       "    .dataframe tbody tr th:only-of-type {\n",
       "        vertical-align: middle;\n",
       "    }\n",
       "\n",
       "    .dataframe tbody tr th {\n",
       "        vertical-align: top;\n",
       "    }\n",
       "\n",
       "    .dataframe thead th {\n",
       "        text-align: right;\n",
       "    }\n",
       "</style>\n",
       "<table border=\"1\" class=\"dataframe\">\n",
       "  <thead>\n",
       "    <tr style=\"text-align: right;\">\n",
       "      <th></th>\n",
       "      <th>deposit</th>\n",
       "      <th>no</th>\n",
       "      <th>yes</th>\n",
       "    </tr>\n",
       "    <tr>\n",
       "      <th>education</th>\n",
       "      <th>marital</th>\n",
       "      <th></th>\n",
       "      <th></th>\n",
       "    </tr>\n",
       "  </thead>\n",
       "  <tbody>\n",
       "    <tr>\n",
       "      <th rowspan=\"3\" valign=\"top\">primary</th>\n",
       "      <th>divorced</th>\n",
       "      <td>91</td>\n",
       "      <td>96</td>\n",
       "    </tr>\n",
       "    <tr>\n",
       "      <th>married</th>\n",
       "      <td>641</td>\n",
       "      <td>339</td>\n",
       "    </tr>\n",
       "    <tr>\n",
       "      <th>single</th>\n",
       "      <td>100</td>\n",
       "      <td>82</td>\n",
       "    </tr>\n",
       "    <tr>\n",
       "      <th rowspan=\"3\" valign=\"top\">secondary</th>\n",
       "      <th>divorced</th>\n",
       "      <td>370</td>\n",
       "      <td>283</td>\n",
       "    </tr>\n",
       "    <tr>\n",
       "      <th>married</th>\n",
       "      <td>1830</td>\n",
       "      <td>1289</td>\n",
       "    </tr>\n",
       "    <tr>\n",
       "      <th>single</th>\n",
       "      <td>866</td>\n",
       "      <td>879</td>\n",
       "    </tr>\n",
       "    <tr>\n",
       "      <th rowspan=\"3\" valign=\"top\">tertiary</th>\n",
       "      <th>divorced</th>\n",
       "      <td>163</td>\n",
       "      <td>174</td>\n",
       "    </tr>\n",
       "    <tr>\n",
       "      <th>married</th>\n",
       "      <td>831</td>\n",
       "      <td>784</td>\n",
       "    </tr>\n",
       "    <tr>\n",
       "      <th>single</th>\n",
       "      <td>531</td>\n",
       "      <td>755</td>\n",
       "    </tr>\n",
       "  </tbody>\n",
       "</table>\n",
       "</div>"
      ],
      "text/plain": [
       "deposit               no   yes\n",
       "education marital             \n",
       "primary   divorced    91    96\n",
       "          married    641   339\n",
       "          single     100    82\n",
       "secondary divorced   370   283\n",
       "          married   1830  1289\n",
       "          single     866   879\n",
       "tertiary  divorced   163   174\n",
       "          married    831   784\n",
       "          single     531   755"
      ]
     },
     "execution_count": 174,
     "metadata": {},
     "output_type": "execute_result"
    }
   ],
   "source": [
    "# постройте сводную таблицу, чтобы определить люди с каким образованием и семейным статусом наиболее многочисленны\n",
    "\n",
    "df.pivot_table(values='age',index=['education','marital'], columns='deposit', aggfunc='count')"
   ]
  },
  {
   "cell_type": "code",
   "execution_count": 176,
   "id": "35ab0413",
   "metadata": {},
   "outputs": [
    {
     "data": {
      "text/plain": [
       "<AxesSubplot:xlabel='deposit', ylabel='education-marital'>"
      ]
     },
     "execution_count": 176,
     "metadata": {},
     "output_type": "execute_result"
    },
    {
     "data": {
      "image/png": "[encoded data removed]",
      "text/plain": [
       "<Figure size 1296x720 with 2 Axes>"
      ]
     },
     "metadata": {
      "needs_background": "light"
     },
     "output_type": "display_data"
    }
   ],
   "source": [
    "sns.heatmap(df.pivot_table(values='age',index=['education','marital'], columns='deposit', aggfunc='count'), annot=True, fmt='d', cmap='coolwarm')"
   ]
  },
  {
   "cell_type": "markdown",
   "id": "397508cf",
   "metadata": {},
   "source": [
    "#### Наблюдения:  \n",
    "\n",
    "* Наиболее многочисленные категории для открывших и не открывших депозит - люди со средним образованием в браке."
   ]
  },
  {
   "cell_type": "markdown",
   "id": "dfd805c0",
   "metadata": {},
   "source": [
    "## Часть 3: преобразование данных"
   ]
  },
  {
   "cell_type": "markdown",
   "id": "e44e715b",
   "metadata": {},
   "source": [
    "### Задание 1"
   ]
  },
  {
   "cell_type": "code",
   "execution_count": null,
   "id": "1e815773",
   "metadata": {},
   "outputs": [],
   "source": [
    "# преобразуйте уровни образования"
   ]
  },
  {
   "cell_type": "markdown",
   "id": "8c93e73d",
   "metadata": {},
   "source": [
    "### Задание 2"
   ]
  },
  {
   "cell_type": "code",
   "execution_count": null,
   "id": "626a5762",
   "metadata": {},
   "outputs": [],
   "source": [
    "# преобразуйте бинарные переменные в представление из нулей и единиц"
   ]
  },
  {
   "cell_type": "markdown",
   "id": "c40dc02a",
   "metadata": {},
   "source": [
    "### Задание 3"
   ]
  },
  {
   "cell_type": "code",
   "execution_count": null,
   "id": "b996883f",
   "metadata": {},
   "outputs": [],
   "source": [
    "# создайте дамми-переменные"
   ]
  },
  {
   "cell_type": "markdown",
   "id": "9a23e318",
   "metadata": {},
   "source": [
    "### Задание 4"
   ]
  },
  {
   "cell_type": "code",
   "execution_count": null,
   "id": "1c884c1a",
   "metadata": {},
   "outputs": [],
   "source": [
    "# постройте корреляционную матрицу и оцените данные на предмет наличия мультиколлинеарности"
   ]
  },
  {
   "cell_type": "markdown",
   "id": "b5b4c1a5",
   "metadata": {},
   "source": [
    "### Задание 5"
   ]
  },
  {
   "cell_type": "code",
   "execution_count": 3,
   "id": "79f3e432",
   "metadata": {},
   "outputs": [],
   "source": [
    "X = df.drop(['deposit'], axis=1)\n",
    "y = df['deposit']\n",
    " \n",
    "X_train, X_test, y_train, y_test = train_test_split(X, y, stratify=y, random_state = 42, test_size = 0.33)"
   ]
  },
  {
   "cell_type": "code",
   "execution_count": null,
   "id": "e3a097a4",
   "metadata": {},
   "outputs": [],
   "source": [
    "# рассчитайте необходимые показатели"
   ]
  },
  {
   "cell_type": "markdown",
   "id": "2e381a4f",
   "metadata": {},
   "source": [
    "### Задание 6"
   ]
  },
  {
   "cell_type": "code",
   "execution_count": null,
   "id": "0f6e03e0",
   "metadata": {},
   "outputs": [],
   "source": [
    "# с помощью SelectKBest отберите 15 наиболее подходящих признаков"
   ]
  },
  {
   "cell_type": "markdown",
   "id": "60132ef3",
   "metadata": {},
   "source": [
    "### Задание 7"
   ]
  },
  {
   "cell_type": "code",
   "execution_count": null,
   "id": "e91b06f3",
   "metadata": {},
   "outputs": [],
   "source": [
    "# нормализуйте данные с помощью minmaxsxaler"
   ]
  },
  {
   "cell_type": "markdown",
   "id": "0894c632",
   "metadata": {},
   "source": [
    "# Часть 4: Решение задачи классификации: логистическая регрессия и решающие деревья"
   ]
  },
  {
   "cell_type": "markdown",
   "id": "41b8ff06",
   "metadata": {},
   "source": [
    "### Задание 1"
   ]
  },
  {
   "cell_type": "code",
   "execution_count": null,
   "id": "8acc0166",
   "metadata": {},
   "outputs": [],
   "source": [
    "# обучите логистическую регрессию и рассчитайте метрики качества"
   ]
  },
  {
   "cell_type": "markdown",
   "id": "29b7e0ba",
   "metadata": {},
   "source": [
    "### Задание 2"
   ]
  },
  {
   "cell_type": "code",
   "execution_count": null,
   "id": "c91a588b",
   "metadata": {},
   "outputs": [],
   "source": [
    "# обучите решающие деревья, настройте максимальную глубину"
   ]
  },
  {
   "cell_type": "markdown",
   "id": "fe823c18",
   "metadata": {},
   "source": [
    "### Задание 3"
   ]
  },
  {
   "cell_type": "code",
   "execution_count": null,
   "id": "63574943",
   "metadata": {},
   "outputs": [],
   "source": [
    "# подберите оптимальные параметры с помощью gridsearch"
   ]
  },
  {
   "cell_type": "markdown",
   "id": "ed0fc831",
   "metadata": {},
   "source": [
    "# Часть 5: Решение задачи классификации: ансамбли моделей и построение прогноза"
   ]
  },
  {
   "cell_type": "markdown",
   "id": "f9e36ff2",
   "metadata": {},
   "source": [
    "### Задание 1"
   ]
  },
  {
   "cell_type": "code",
   "execution_count": 4,
   "id": "e708e3fe",
   "metadata": {},
   "outputs": [],
   "source": [
    "# обучите на ваших данных случайный лес"
   ]
  },
  {
   "cell_type": "markdown",
   "id": "71d7b13d",
   "metadata": {},
   "source": [
    "### Задание 2"
   ]
  },
  {
   "cell_type": "code",
   "execution_count": null,
   "id": "99f12dfe",
   "metadata": {},
   "outputs": [],
   "source": [
    "# используйте для классификации градиентный бустинг и сравните качество со случайным лесом"
   ]
  },
  {
   "cell_type": "markdown",
   "id": "b08718ae",
   "metadata": {},
   "source": [
    "### Задание3"
   ]
  },
  {
   "cell_type": "code",
   "execution_count": null,
   "id": "0bd42fb0",
   "metadata": {},
   "outputs": [],
   "source": [
    "# объедините уже известные вам алгоритмы с помощью стекинга "
   ]
  },
  {
   "cell_type": "markdown",
   "id": "6247a5fb",
   "metadata": {},
   "source": [
    "### Задание 4"
   ]
  },
  {
   "cell_type": "code",
   "execution_count": null,
   "id": "35de769c",
   "metadata": {},
   "outputs": [],
   "source": [
    "# оцените, какие признаки демонстрируют наибольшую  важность в модели градиентного бустинга"
   ]
  },
  {
   "cell_type": "markdown",
   "id": "96974dda",
   "metadata": {},
   "source": [
    "### Задание 5"
   ]
  },
  {
   "cell_type": "code",
   "execution_count": null,
   "id": "c48e29e9",
   "metadata": {},
   "outputs": [],
   "source": [
    "# реализуйте оптимизацию гиперпараметров с помощью Optuna"
   ]
  }
 ],
 "metadata": {
  "kernelspec": {
   "display_name": "Python 3.9.7 ('base')",
   "language": "python",
   "name": "python3"
  },
  "language_info": {
   "codemirror_mode": {
    "name": "ipython",
    "version": 3
   },
   "file_extension": ".py",
   "mimetype": "text/x-python",
   "name": "python",
   "nbconvert_exporter": "python",
   "pygments_lexer": "ipython3",
   "version": "3.9.12"
  },
  "vscode": {
   "interpreter": {
    "hash": "ad2bdc8ecc057115af97d19610ffacc2b4e99fae6737bb82f5d7fb13d2f2c186"
   }
  }
 },
 "nbformat": 4,
 "nbformat_minor": 5
}
