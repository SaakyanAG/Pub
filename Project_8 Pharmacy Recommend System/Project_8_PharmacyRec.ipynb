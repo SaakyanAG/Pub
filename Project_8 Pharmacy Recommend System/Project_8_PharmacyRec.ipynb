{
  "cells": [
    {
      "cell_type": "code",
      "execution_count": 6,
      "metadata": {
        "id": "BphJzgL-1n8Y"
      },
      "outputs": [],
      "source": [
        "import pickle\n",
        "import string\n",
        "import annoy\n",
        "\n",
        "import pandas as pd\n",
        "import numpy as np\n",
        "\n",
        "from sklearn.model_selection import train_test_split\n",
        "from pymorphy2 import MorphAnalyzer\n",
        "from stop_words import get_stop_words\n",
        "from gensim.models import FastText\n",
        "from tqdm import tqdm_notebook"
      ]
    },
    {
      "cell_type": "code",
      "execution_count": 7,
      "metadata": {
        "colab": {
          "base_uri": "https://localhost:8080/",
          "height": 380
        },
        "id": "tEW9k9Uq1n8c",
        "outputId": "cd6c207e-fb97-4f57-a2f4-83e73054f0e2"
      },
      "outputs": [
        {
          "name": "stderr",
          "output_type": "stream",
          "text": [
            "C:\\Users\\saakyan.ag\\AppData\\Local\\Temp\\ipykernel_23944\\4135959788.py:1: DtypeWarning: Columns (1) have mixed types. Specify dtype option on import or set low_memory=False.\n",
            "  checks = pd.read_csv(\"data/data.csv\")\n"
          ]
        },
        {
          "data": {
            "text/html": [
              "<div>\n",
              "<style scoped>\n",
              "    .dataframe tbody tr th:only-of-type {\n",
              "        vertical-align: middle;\n",
              "    }\n",
              "\n",
              "    .dataframe tbody tr th {\n",
              "        vertical-align: top;\n",
              "    }\n",
              "\n",
              "    .dataframe thead th {\n",
              "        text-align: right;\n",
              "    }\n",
              "</style>\n",
              "<table border=\"1\" class=\"dataframe\">\n",
              "  <thead>\n",
              "    <tr style=\"text-align: right;\">\n",
              "      <th></th>\n",
              "      <th>sale_date_date</th>\n",
              "      <th>contact_id</th>\n",
              "      <th>shop_id</th>\n",
              "      <th>product_id</th>\n",
              "      <th>product_sub_category_id</th>\n",
              "      <th>product_category_id</th>\n",
              "      <th>brand_id</th>\n",
              "      <th>quantity</th>\n",
              "    </tr>\n",
              "  </thead>\n",
              "  <tbody>\n",
              "    <tr>\n",
              "      <th>0</th>\n",
              "      <td>2018-12-07</td>\n",
              "      <td>1260627</td>\n",
              "      <td>1455.0</td>\n",
              "      <td>168308.0</td>\n",
              "      <td>906.0</td>\n",
              "      <td>205.0</td>\n",
              "      <td>-1.0</td>\n",
              "      <td>1,00</td>\n",
              "    </tr>\n",
              "    <tr>\n",
              "      <th>1</th>\n",
              "      <td>2018-12-07</td>\n",
              "      <td>198287</td>\n",
              "      <td>279.0</td>\n",
              "      <td>134832.0</td>\n",
              "      <td>404.0</td>\n",
              "      <td>93.0</td>\n",
              "      <td>-1.0</td>\n",
              "      <td>1,00</td>\n",
              "    </tr>\n",
              "    <tr>\n",
              "      <th>2</th>\n",
              "      <td>2018-12-07</td>\n",
              "      <td>2418385</td>\n",
              "      <td>848.0</td>\n",
              "      <td>101384.0</td>\n",
              "      <td>404.0</td>\n",
              "      <td>93.0</td>\n",
              "      <td>-1.0</td>\n",
              "      <td>1,00</td>\n",
              "    </tr>\n",
              "    <tr>\n",
              "      <th>3</th>\n",
              "      <td>2018-12-07</td>\n",
              "      <td>1285774</td>\n",
              "      <td>1511.0</td>\n",
              "      <td>168570.0</td>\n",
              "      <td>906.0</td>\n",
              "      <td>205.0</td>\n",
              "      <td>-1.0</td>\n",
              "      <td>1,00</td>\n",
              "    </tr>\n",
              "    <tr>\n",
              "      <th>4</th>\n",
              "      <td>2018-12-07</td>\n",
              "      <td>1810323</td>\n",
              "      <td>1501.0</td>\n",
              "      <td>168319.0</td>\n",
              "      <td>906.0</td>\n",
              "      <td>205.0</td>\n",
              "      <td>-1.0</td>\n",
              "      <td>1,00</td>\n",
              "    </tr>\n",
              "  </tbody>\n",
              "</table>\n",
              "</div>"
            ],
            "text/plain": [
              "  sale_date_date contact_id  shop_id  product_id  product_sub_category_id  \\\n",
              "0     2018-12-07    1260627   1455.0    168308.0                    906.0   \n",
              "1     2018-12-07     198287    279.0    134832.0                    404.0   \n",
              "2     2018-12-07    2418385    848.0    101384.0                    404.0   \n",
              "3     2018-12-07    1285774   1511.0    168570.0                    906.0   \n",
              "4     2018-12-07    1810323   1501.0    168319.0                    906.0   \n",
              "\n",
              "   product_category_id  brand_id quantity  \n",
              "0                205.0      -1.0     1,00  \n",
              "1                 93.0      -1.0     1,00  \n",
              "2                 93.0      -1.0     1,00  \n",
              "3                205.0      -1.0     1,00  \n",
              "4                205.0      -1.0     1,00  "
            ]
          },
          "execution_count": 7,
          "metadata": {},
          "output_type": "execute_result"
        }
      ],
      "source": [
        "checks = pd.read_csv(\"data/data.csv\")\n",
        "checks.drop(['name'], axis=1, inplace=True)\n",
        "\n",
        "with open(\"data/Product_dict.pkl\",\"rb\") as f:\n",
        "    product_dict = pickle.load(f)\n",
        "\n",
        "checks.head()"
      ]
    },
    {
      "cell_type": "code",
      "execution_count": 8,
      "metadata": {
        "id": "6K9CNpd_1n8c"
      },
      "outputs": [
        {
          "data": {
            "text/html": [
              "<div>\n",
              "<style scoped>\n",
              "    .dataframe tbody tr th:only-of-type {\n",
              "        vertical-align: middle;\n",
              "    }\n",
              "\n",
              "    .dataframe tbody tr th {\n",
              "        vertical-align: top;\n",
              "    }\n",
              "\n",
              "    .dataframe thead th {\n",
              "        text-align: right;\n",
              "    }\n",
              "</style>\n",
              "<table border=\"1\" class=\"dataframe\">\n",
              "  <thead>\n",
              "    <tr style=\"text-align: right;\">\n",
              "      <th></th>\n",
              "      <th>sale_date_date</th>\n",
              "      <th>contact_id</th>\n",
              "      <th>shop_id</th>\n",
              "      <th>product_id</th>\n",
              "      <th>product_sub_category_id</th>\n",
              "      <th>product_category_id</th>\n",
              "      <th>brand_id</th>\n",
              "      <th>quantity</th>\n",
              "      <th>key_col</th>\n",
              "    </tr>\n",
              "  </thead>\n",
              "  <tbody>\n",
              "    <tr>\n",
              "      <th>0</th>\n",
              "      <td>2018-12-07</td>\n",
              "      <td>1260627</td>\n",
              "      <td>1455.0</td>\n",
              "      <td>168308.0</td>\n",
              "      <td>906.0</td>\n",
              "      <td>205.0</td>\n",
              "      <td>-1.0</td>\n",
              "      <td>1,00</td>\n",
              "      <td>2018-12-07_1260627_1455.0</td>\n",
              "    </tr>\n",
              "    <tr>\n",
              "      <th>1</th>\n",
              "      <td>2018-12-07</td>\n",
              "      <td>198287</td>\n",
              "      <td>279.0</td>\n",
              "      <td>134832.0</td>\n",
              "      <td>404.0</td>\n",
              "      <td>93.0</td>\n",
              "      <td>-1.0</td>\n",
              "      <td>1,00</td>\n",
              "      <td>2018-12-07_198287_279.0</td>\n",
              "    </tr>\n",
              "    <tr>\n",
              "      <th>2</th>\n",
              "      <td>2018-12-07</td>\n",
              "      <td>2418385</td>\n",
              "      <td>848.0</td>\n",
              "      <td>101384.0</td>\n",
              "      <td>404.0</td>\n",
              "      <td>93.0</td>\n",
              "      <td>-1.0</td>\n",
              "      <td>1,00</td>\n",
              "      <td>2018-12-07_2418385_848.0</td>\n",
              "    </tr>\n",
              "    <tr>\n",
              "      <th>3</th>\n",
              "      <td>2018-12-07</td>\n",
              "      <td>1285774</td>\n",
              "      <td>1511.0</td>\n",
              "      <td>168570.0</td>\n",
              "      <td>906.0</td>\n",
              "      <td>205.0</td>\n",
              "      <td>-1.0</td>\n",
              "      <td>1,00</td>\n",
              "      <td>2018-12-07_1285774_1511.0</td>\n",
              "    </tr>\n",
              "    <tr>\n",
              "      <th>4</th>\n",
              "      <td>2018-12-07</td>\n",
              "      <td>1810323</td>\n",
              "      <td>1501.0</td>\n",
              "      <td>168319.0</td>\n",
              "      <td>906.0</td>\n",
              "      <td>205.0</td>\n",
              "      <td>-1.0</td>\n",
              "      <td>1,00</td>\n",
              "      <td>2018-12-07_1810323_1501.0</td>\n",
              "    </tr>\n",
              "  </tbody>\n",
              "</table>\n",
              "</div>"
            ],
            "text/plain": [
              "  sale_date_date contact_id  shop_id  product_id  product_sub_category_id  \\\n",
              "0     2018-12-07    1260627   1455.0    168308.0                    906.0   \n",
              "1     2018-12-07     198287    279.0    134832.0                    404.0   \n",
              "2     2018-12-07    2418385    848.0    101384.0                    404.0   \n",
              "3     2018-12-07    1285774   1511.0    168570.0                    906.0   \n",
              "4     2018-12-07    1810323   1501.0    168319.0                    906.0   \n",
              "\n",
              "   product_category_id  brand_id quantity                    key_col  \n",
              "0                205.0      -1.0     1,00  2018-12-07_1260627_1455.0  \n",
              "1                 93.0      -1.0     1,00    2018-12-07_198287_279.0  \n",
              "2                 93.0      -1.0     1,00   2018-12-07_2418385_848.0  \n",
              "3                205.0      -1.0     1,00  2018-12-07_1285774_1511.0  \n",
              "4                205.0      -1.0     1,00  2018-12-07_1810323_1501.0  "
            ]
          },
          "execution_count": 8,
          "metadata": {},
          "output_type": "execute_result"
        }
      ],
      "source": [
        "# Создадим ключевую колонку: время + касса + магазин\n",
        "checks['key_col'] = checks['sale_date_date'].apply(str) + \"_\" + checks['contact_id'].apply(str) + \"_\" + checks['shop_id'].apply(str)\n",
        "checks.head()"
      ]
    },
    {
      "cell_type": "code",
      "execution_count": 9,
      "metadata": {
        "id": "4PkcECXI1n8d"
      },
      "outputs": [],
      "source": [
        "checks.dropna(inplace=True)\n",
        "checks = checks[checks['sale_date_date'].str.startswith(\"20\")]\n",
        "checks.reset_index(inplace=True, drop=True)\n",
        "checks['sale_date_date'] = pd.to_datetime(checks['sale_date_date'])\n",
        "checks.sort_values('sale_date_date', inplace=True)\n",
        "\n",
        "# Достаточно отсортировать и сделать трейн-тест, чтобы построить валидацию. Забьем на разорванные сессии\n",
        "train, test = train_test_split(checks, test_size=0.3)"
      ]
    },
    {
      "cell_type": "code",
      "execution_count": 25,
      "metadata": {
        "id": "WNlDG4tl1n8e"
      },
      "outputs": [],
      "source": [
        "# Обучим простые контетные рекомендации\n",
        "\n",
        "# Для фильтрации пунктуации\n",
        "exclude = set(string.punctuation)\n",
        "# Для приведения слов в начальной форме\n",
        "morpher = MorphAnalyzer()\n",
        "\n",
        "# Для фильтрации стоп-слов\n",
        "sw = get_stop_words(\"ru\")\n",
        "\n",
        "def preprocess_txt(line):\n",
        "    spls = \"\".join(i for i in str(line).strip() if i not in exclude).split()\n",
        "    spls = [morpher.parse(i.lower())[0].normal_form for i in spls]\n",
        "    spls = [i for i in spls if i not in sw and i != \"\"]\n",
        "    return spls\n",
        "\n",
        "sentences = [preprocess_txt(k) for k in product_dict.keys()]\n",
        "\n",
        "# Подготовим кандидатогенератор, который будет отдавать фильмы похожие по текстовому описанию на те, .\n",
        "# которые оенил пользователь\n",
        "# Обучим Fasttext и заэмбедим фильмы\n",
        "modelFT = FastText(sentences=sentences, vector_size=20, min_count=1, window=5)\n"
      ]
    },
    {
      "cell_type": "code",
      "execution_count": 27,
      "metadata": {},
      "outputs": [
        {
          "name": "stderr",
          "output_type": "stream",
          "text": [
            "C:\\Users\\saakyan.ag\\AppData\\Local\\Temp\\ipykernel_23944\\1230621081.py:9: TqdmDeprecationWarning: This function will be removed in tqdm==5.0.0\n",
            "Please use `tqdm.notebook.tqdm` instead of `tqdm.tqdm_notebook`\n",
            "  for name in tqdm_notebook(product_dict.keys()):\n"
          ]
        },
        {
          "data": {
            "application/vnd.jupyter.widget-view+json": {
              "model_id": "80cbf070d3db4f7fb85f13e406f40f92",
              "version_major": 2,
              "version_minor": 0
            },
            "text/plain": [
              "  0%|          | 0/30418 [00:00<?, ?it/s]"
            ]
          },
          "metadata": {},
          "output_type": "display_data"
        },
        {
          "data": {
            "text/plain": [
              "True"
            ]
          },
          "execution_count": 27,
          "metadata": {},
          "output_type": "execute_result"
        }
      ],
      "source": [
        "\n",
        "# Для того, чтобы быстро находить айтемы положим эмбединги их тайтлов в ANN индекс\n",
        "# Создадим объект индекса\n",
        "ft_index_names = annoy.AnnoyIndex(20 ,'angular')\n",
        "\n",
        "# Будем хранить соответствия не только id-> фильм, но и фильм-> id, чтобы быстрее находить эмбеддинги айтемов\n",
        "reverse_index_map = {}\n",
        "counter = 0\n",
        "\n",
        "for name in tqdm_notebook(product_dict.keys()):\n",
        "    n_ft = 0\n",
        "    reverse_index_map[counter] = name\n",
        "    vector_ft = np.zeros(20)\n",
        "    # Каждое слово обернем в эмбеддинг\n",
        "    for word in preprocess_txt(name):\n",
        "        # if word in modelFT:\n",
        "            vector_ft += modelFT.wv[word]\n",
        "            n_ft += 1\n",
        "    if n_ft > 0:\n",
        "        vector_ft = vector_ft / n_ft\n",
        "    ft_index_names.add_item(counter, vector_ft)\n",
        "    counter += 1\n",
        "\n",
        "#\n",
        "ft_index_names.build(10)"
      ]
    },
    {
      "cell_type": "code",
      "execution_count": 28,
      "metadata": {
        "id": "AgJvnjSP1n8e"
      },
      "outputs": [],
      "source": [
        "reverse_item_mapping = {v: k for k, v in product_dict.items()}\n",
        "\n",
        "def recommend(items_list):\n",
        "    current_vector = np.zeros(20)\n",
        "    c = len(items_list)\n",
        "    for iid in items_list:\n",
        "        iname = product_dict[iid]\n",
        "        if iname not in reverse_index_map:\n",
        "            c -= 1\n",
        "            continue\n",
        "        current_vector += np.array(ft_index_names.get_item_vector[reverse_index_map[iname]])\n",
        "    return [product_dict[reverse_index_map[i]] for i in ft_index_names.get_nns_by_vector(current_vector / c, 10)]"
      ]
    },
    {
      "cell_type": "code",
      "execution_count": 29,
      "metadata": {
        "id": "eil_GO2q1n8f"
      },
      "outputs": [
        {
          "name": "stderr",
          "output_type": "stream",
          "text": [
            "C:\\Users\\saakyan.ag\\AppData\\Local\\Temp\\ipykernel_23944\\3531675664.py:12: RuntimeWarning: invalid value encountered in divide\n",
            "  return [product_dict[reverse_index_map[i]] for i in ft_index_names.get_nns_by_vector(current_vector / c, 10)]\n"
          ]
        },
        {
          "data": {
            "text/plain": [
              "['(106357) Салфетки EURON д/ухода за лежачими больными №64 755',\n",
              " '(79205) Верапамил тб п/о 80мг N30 738',\n",
              " '(5061) Лейкопластырь 2см х 500см катушка в уп.из полист. N1 670',\n",
              " '(64790) Ксимелин ЭКО с ментолом спрей назальный 140мкг/доза 1мг/мл фл.10мл 701',\n",
              " '(194632) Корега крем для фиксации зубных протезов Максимальное прилегание 40г 533',\n",
              " '(63827) Аркоксиа табл. п.п.о.90мг №7 647',\n",
              " '(91731) Селенцин шампунь от выпадения волос 200мл 476',\n",
              " '(112926) Либридерм Пантенол Форте 9% крем 30мл 547',\n",
              " '(91616) Гевискон Двойное Действие сусп.д/приема внутрь (мятная) пакет 10мл №12 595',\n",
              " '(196468) СалиЦинк Пенка для умывания для жирной и комбинированной кожи Сера-Цинк 160мл 503']"
            ]
          },
          "execution_count": 29,
          "metadata": {},
          "output_type": "execute_result"
        }
      ],
      "source": [
        "recommend(['52539', '110342'])"
      ]
    },
    {
      "cell_type": "code",
      "execution_count": 30,
      "metadata": {
        "id": "I4jrOD771n8f"
      },
      "outputs": [],
      "source": [
        "# Обучение эмбеддингов по последовательности\n",
        "from gensim.models import Word2Vec\n",
        "\n",
        "train['product_id'] = train['product_id'].apply(int).apply(str)\n",
        "\n",
        "grouped = train.groupby('key_col')\n",
        "sentences = []"
      ]
    },
    {
      "cell_type": "code",
      "execution_count": 31,
      "metadata": {
        "id": "tGgezbwj1n8g",
        "scrolled": true
      },
      "outputs": [
        {
          "name": "stderr",
          "output_type": "stream",
          "text": [
            "C:\\Users\\saakyan.ag\\AppData\\Local\\Temp\\ipykernel_23944\\4185597927.py:5: TqdmDeprecationWarning: This function will be removed in tqdm==5.0.0\n",
            "Please use `tqdm.notebook.tqdm` instead of `tqdm.tqdm_notebook`\n",
            "  for group in tqdm_notebook(grouped.groups):\n"
          ]
        },
        {
          "data": {
            "application/vnd.jupyter.widget-view+json": {
              "model_id": "12b6715e1fce4485a9412302aada3f52",
              "version_major": 2,
              "version_minor": 0
            },
            "text/plain": [
              "  0%|          | 0/5458610 [00:00<?, ?it/s]"
            ]
          },
          "metadata": {},
          "output_type": "display_data"
        }
      ],
      "source": [
        "# Сформируем последовательности\n",
        "\n",
        "from tqdm import tqdm\n",
        "sentences = []\n",
        "for group in tqdm_notebook(grouped.groups):\n",
        "    products = grouped.get_group(group)['product_id'].values\n",
        "    if len(products) < 3:\n",
        "        continue\n",
        "    sentences.append(list(products))"
      ]
    },
    {
      "cell_type": "code",
      "execution_count": 33,
      "metadata": {
        "id": "NM412GSU1n8h"
      },
      "outputs": [],
      "source": [
        "modelW2V = Word2Vec(sentences, vector_size=10)"
      ]
    },
    {
      "cell_type": "code",
      "execution_count": 34,
      "metadata": {
        "id": "qUGOzOqn1n8h"
      },
      "outputs": [
        {
          "data": {
            "text/plain": [
              "['69028', '62087', '120171']"
            ]
          },
          "execution_count": 34,
          "metadata": {},
          "output_type": "execute_result"
        }
      ],
      "source": [
        "sentences[0]"
      ]
    },
    {
      "cell_type": "code",
      "execution_count": 56,
      "metadata": {
        "id": "6bhlwjwC1n8i"
      },
      "outputs": [],
      "source": [
        "def recommend_w2v(items_list):\n",
        "    current_vector = np.zeros(10)\n",
        "    c = len(items_list)\n",
        "    for iid in items_list:\n",
        "        iname = product_dict[iid]\n",
        "        # if iname not in modelW2V:\n",
        "        #     c -= 1\n",
        "        #     continue\n",
        "        try:\n",
        "            current_vector += np.array(modelW2V.wv[reverse_index_map[iname]])\n",
        "        except KeyError:\n",
        "            continue\n",
        "    return [product_dict[i[0]] for i in modelW2V.wv.most_similar(current_vector / c, 10)]"
      ]
    },
    {
      "cell_type": "code",
      "execution_count": 57,
      "metadata": {
        "id": "ga2A4ifk1n8i"
      },
      "outputs": [
        {
          "data": {
            "text/plain": [
              "['(91831) Солгар Тройная Омега-3 950 ЭПК и ДГК капсулы №50 банка 428',\n",
              " '(49371) Ципралекс таб. п.о.10мг №28 635',\n",
              " '(95819) Стрезам капс 50мг №60 631',\n",
              " '(66287) Селектра табл. п.п.о 10мг №28 635',\n",
              " '(43055) Золофт табл. п.о. 50 мг. №28 635',\n",
              " '(55087) Адаптол таб.500мг №20 632',\n",
              " '(114206) Эглонил капс 50мг N30 637',\n",
              " '(66484) Солгар Коэнзим Q-10 капс. 60мг №30 428',\n",
              " '(112174) Нэйчес Баунти Рыбий Жир Омега-3 капс.980мг №30 439',\n",
              " '(72189) Витамин Е Зентива капс.400 мг №30 438']"
            ]
          },
          "execution_count": 57,
          "metadata": {},
          "output_type": "execute_result"
        }
      ],
      "source": [
        "recommend_w2v(['99821', '138583', '45321', '134475'])"
      ]
    }
  ],
  "metadata": {
    "colab": {
      "provenance": []
    },
    "kernelspec": {
      "display_name": "Python 3",
      "language": "python",
      "name": "python3"
    },
    "language_info": {
      "codemirror_mode": {
        "name": "ipython",
        "version": 3
      },
      "file_extension": ".py",
      "mimetype": "text/x-python",
      "name": "python",
      "nbconvert_exporter": "python",
      "pygments_lexer": "ipython3",
      "version": "3.12.0"
    }
  },
  "nbformat": 4,
  "nbformat_minor": 0
}
